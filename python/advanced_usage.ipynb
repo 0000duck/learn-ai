{
 "cells": [
  {
   "cell_type": "markdown",
   "metadata": {},
   "source": [
    "## Python高级使用"
   ]
  },
  {
   "cell_type": "code",
   "execution_count": null,
   "metadata": {},
   "outputs": [],
   "source": [
    "import track"
   ]
  },
  {
   "cell_type": "markdown",
   "metadata": {},
   "source": [
    "### With块的使用\n",
    "\n",
    "自定义With块对象需要实现`__enter__`与`__exit__`函数：\n",
    "\n",
    "- `__enter__()`：在使用with语句时调用，会话管理器在代码块开始前调用，返回值与as后的参数绑定；  \n",
    "- `__exit__()`：会话管理器在代码块执行完成好后调用，在with语句完成时，对象销毁之前调用，如果with里面的代码块有异常，会把异常类型，异常值，异常跟踪信息分别赋值给函数参数`exc_type`, `exc_val`, `exc_tb`, 没有异常这几个值则都是`None`。\n",
    "\n",
    "例子代码如下："
   ]
  },
  {
   "cell_type": "code",
   "execution_count": 1,
   "metadata": {},
   "outputs": [
    {
     "name": "stdout",
     "output_type": "stream",
     "text": [
      "Entered the with block...\n",
      "Execting with block...\n",
      "Finished the with block.\n"
     ]
    }
   ],
   "source": [
    "class WithTest(object):\n",
    "    \n",
    "    def __init__(self, name):\n",
    "        self.name=name\n",
    "        \n",
    "    def __enter__(self):\n",
    "        print(\"Entered the with block...\")\n",
    "        # 一般都返回self\n",
    "        return self\n",
    "    \n",
    "    def __exit__(self, exc_type, exc_val, exc_tb):\n",
    "        print(\"Finished the with block.\")\n",
    "\n",
    "with WithTest('with') as test:\n",
    "    print(\"Execting with block...\")"
   ]
  }
 ],
 "metadata": {
  "kernelspec": {
   "display_name": "Python 3",
   "language": "python",
   "name": "python3"
  },
  "language_info": {
   "codemirror_mode": {
    "name": "ipython",
    "version": 3
   },
   "file_extension": ".py",
   "mimetype": "text/x-python",
   "name": "python",
   "nbconvert_exporter": "python",
   "pygments_lexer": "ipython3",
   "version": "3.6.5"
  }
 },
 "nbformat": 4,
 "nbformat_minor": 2
}
