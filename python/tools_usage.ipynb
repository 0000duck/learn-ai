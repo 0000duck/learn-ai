{
 "cells": [
  {
   "cell_type": "markdown",
   "metadata": {},
   "source": [
    "# Tools Usage"
   ]
  },
  {
   "cell_type": "code",
   "execution_count": 9,
   "metadata": {},
   "outputs": [],
   "source": [
    "from natsort import natsorted\n",
    "import glob"
   ]
  },
  {
   "cell_type": "markdown",
   "metadata": {},
   "source": [
    "## Natsort\n",
    "\n",
    "Python中简单且灵活的排序库，使用一种更自然的方式来排序。\n",
    "\n",
    "官方文档请查看[natsort](https://pypi.org/project/natsort/)。\n"
   ]
  },
  {
   "cell_type": "code",
   "execution_count": 7,
   "metadata": {},
   "outputs": [
    {
     "name": "stdout",
     "output_type": "stream",
     "text": [
      "['1 ft 5 in', '10 ft 2 in', '2 ft 11 in', '2 ft 7 in', '7 ft 6 in']\n",
      "['1 ft 5 in', '2 ft 7 in', '2 ft 11 in', '7 ft 6 in', '10 ft 2 in']\n"
     ]
    }
   ],
   "source": [
    "a = ['2 ft 7 in', '1 ft 5 in', '10 ft 2 in', '2 ft 11 in', '7 ft 6 in']\n",
    "print(sorted(a))  # 原生排序\n",
    "print(natsorted(a))  # 根据意义来排序，更自然的排序方式"
   ]
  },
  {
   "cell_type": "markdown",
   "metadata": {},
   "source": [
    "## Glob\n",
    "\n",
    "python在模块glob中定义了`glob()`函数，实现对文件目录内容进行匹配搜索，且可使用通配符，用它可以查找符合自己目的的文件。函数原型如下：\n",
    "\n",
    "```bash\n",
    "glob.glob(\n",
    "    pathname='',\n",
    "    recursive=False\n",
    ")\n",
    "```\n",
    "\n",
    "- `pathname`: 为需要匹配的字符串，尽量使用`'r'`开头；\n",
    "- `recursive`: 是否递归调用；\n",
    "\n",
    "通配符列表：\n",
    "\n",
    "- `*`: 匹配0或多个字符\n",
    "- `?`: 匹配1个字符\n",
    "- `[exp]`: 匹配指定范围内的字符，如: `[1-9]`匹配1至9范围内的字符\n",
    "- `[!exp]`: 匹配不在指定范围内的字符\n",
    "\n",
    "另还有`glob.iglob()`函数与上面函数功能基本一致，只是返回的是迭代器。"
   ]
  },
  {
   "cell_type": "code",
   "execution_count": 10,
   "metadata": {},
   "outputs": [
    {
     "name": "stdout",
     "output_type": "stream",
     "text": [
      "['./tools_usage.ipynb', './advanced_usage.ipynb', './readme.md']\n"
     ]
    }
   ],
   "source": [
    "print(glob.glob(r'./*'))"
   ]
  }
 ],
 "metadata": {
  "kernelspec": {
   "display_name": "Python 3",
   "language": "python",
   "name": "python3"
  },
  "language_info": {
   "codemirror_mode": {
    "name": "ipython",
    "version": 3
   },
   "file_extension": ".py",
   "mimetype": "text/x-python",
   "name": "python",
   "nbconvert_exporter": "python",
   "pygments_lexer": "ipython3",
   "version": "3.6.5"
  }
 },
 "nbformat": 4,
 "nbformat_minor": 2
}
