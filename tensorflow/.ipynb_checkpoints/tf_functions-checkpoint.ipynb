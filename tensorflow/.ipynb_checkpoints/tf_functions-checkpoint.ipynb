{
 "cells": [
  {
   "cell_type": "markdown",
   "metadata": {},
   "source": [
    "# Tensorflow函数"
   ]
  },
  {
   "cell_type": "code",
   "execution_count": 11,
   "metadata": {},
   "outputs": [],
   "source": [
    "import tensorflow as tf\n",
    "tf.InteractiveSession()\n",
    "init=tf.global_variables_initializer()\n",
    "init.run()"
   ]
  },
  {
   "cell_type": "markdown",
   "metadata": {},
   "source": [
    "## Graph相关"
   ]
  },
  {
   "cell_type": "markdown",
   "metadata": {},
   "source": [
    "### [tf.Graph.as_default()](https://www.tensorflow.org/api_docs/python/tf/Graph#as_default)\n",
    "\n",
    "将某图设置为默认图，并返回一个上下文管理器。所设置的默认图，在模块范围内所定义的节点都将默认加入默认图中。"
   ]
  },
  {
   "cell_type": "code",
   "execution_count": 17,
   "metadata": {},
   "outputs": [],
   "source": [
    "g = tf.Graph()\n",
    "with g.as_default():\n",
    "    pass"
   ]
  },
  {
   "cell_type": "markdown",
   "metadata": {},
   "source": [
    "### [tf.Session()](https://www.tensorflow.org/api_docs/python/tf/Session)\n",
    "\n",
    "`tf.Session()`对象用于评估图中节点的输出结果（间接决定执行哪些op）。它可能拥有一些资源（Resources），如：`tf.Variable`等，所以需要及时释放不需要的资源：使用`sess.close()`手动释放或使用`with tf.Session() as sess:`自动释放。\n",
    "\n",
    "其初始化原型为：\n",
    "\n",
    "```bash\n",
    "__init__(\n",
    "    target='',\n",
    "    graph=None,\n",
    "    config=None\n",
    ")\n",
    "```\n",
    "- `graph`: 取`None`或使用传入的`tf.Graph()`对象。注意：每个`sess`只能操作一个图，但是一个图可能被多个`sess`操作。\n",
    "- `config`: 取`None`或者传入的`tf.ConfigProto()`对象;"
   ]
  },
  {
   "cell_type": "markdown",
   "metadata": {},
   "source": [
    "### [tf.ConfigProto()](https://www.tensorflow.org/api_docs/python/tf/ConfigProto#class_configproto)\n",
    "\n",
    "用于配置`tf.Session()`，常用的传入参数包括:\n",
    "\n",
    "```bash\n",
    "tf.ConfigProto(\n",
    "    log_device_placement=True,\n",
    "    allow_soft_placement=True,\n",
    "    gpu_options=tf.GPUOptions()\n",
    ")\n",
    "```\n",
    "\n",
    "- `log_device_placement`: 是否打印`op`和`Tensor`被指派到哪个设备（几号CPU或几号GPU）上运行。\n",
    "- `allow_soft_placement`: 是否允许`tf`自动选择一个存在并且可用的设备来运行操作。\n",
    "- `gpu_options`: 设置跟GPU使用相关的操作。"
   ]
  },
  {
   "cell_type": "markdown",
   "metadata": {},
   "source": [
    "### [tf.GPUOptions()](https://www.tensorflow.org/api_docs/python/tf/GPUOptions)\n",
    "\n",
    "配置`tf.ConfigProto()`中跟GPU相关的部分，常用传入参数包括：\n",
    "\n",
    "```bash\n",
    "tf.GPUOptions(\n",
    "    allow_growth=true,\n",
    "    per_process_gpu_memory_fraction=0.4\n",
    ")\n",
    "```\n",
    "\n",
    "- `allow_growth`: 动态申请显存，需要多少就申请多少显存。\n",
    "- `per_process_gpu_memory_fraction`: 限制GPU使用率。"
   ]
  },
  {
   "cell_type": "markdown",
   "metadata": {},
   "source": [
    "## Tensor变换"
   ]
  },
  {
   "cell_type": "markdown",
   "metadata": {},
   "source": [
    "### [tf.concat()]((https://www.tensorflow.org/api_docs/python/tf/concat))\n",
    "\n",
    "可以**在某个维度上连接两个Tensor**，其函数原型为：\n",
    "\n",
    "```bash\n",
    "tf.concat(\n",
    "    values,\n",
    "    axis,\n",
    "    name='concat'\n",
    ")\n",
    "```\n",
    "\n",
    "- `values`: 一个Tensor列表或元组，比如：`[Tensor1, Tensor2]`表示要连接这两个`Tensor`;\n",
    "- `axis`: 想在哪一维度上做连接;\n",
    "\n",
    "实际上本函数操作表现为**对应维度的拼接**，使用例子如下："
   ]
  },
  {
   "cell_type": "code",
   "execution_count": 16,
   "metadata": {},
   "outputs": [
    {
     "name": "stdout",
     "output_type": "stream",
     "text": [
      "[[[ 1  2]\n",
      "  [ 2  3]\n",
      "  [ 7  4]\n",
      "  [ 8  4]]\n",
      "\n",
      " [[ 4  4]\n",
      "  [ 5  3]\n",
      "  [ 2 10]\n",
      "  [15 11]]]\n"
     ]
    }
   ],
   "source": [
    "t1 = [[[1, 2], [2, 3]], [[4, 4], [5, 3]]]  # shape=(2, 2, 2)\n",
    "t2 = [[[7, 4], [8, 4]], [[2, 10], [15, 11]]]  # shape=(2, 2, 2)\n",
    "\n",
    "_axis = 1  # 改变这个值查看效果\n",
    "\n",
    "# 第_axis维上拼接\n",
    "res_op = tf.concat([t1, t2], axis=_axis)  \n",
    "print(res_op.eval())"
   ]
  },
  {
   "cell_type": "markdown",
   "metadata": {},
   "source": [
    "## 参考资料\n",
    "\n",
    "1. [tensorflow中使用tf.ConfigProto()配置Session运行参数&&GPU设备指定](https://blog.csdn.net/dcrmg/article/details/79091941)"
   ]
  }
 ],
 "metadata": {
  "kernelspec": {
   "display_name": "Python 3",
   "language": "python",
   "name": "python3"
  },
  "language_info": {
   "codemirror_mode": {
    "name": "ipython",
    "version": 3
   },
   "file_extension": ".py",
   "mimetype": "text/x-python",
   "name": "python",
   "nbconvert_exporter": "python",
   "pygments_lexer": "ipython3",
   "version": "3.6.5"
  }
 },
 "nbformat": 4,
 "nbformat_minor": 2
}
