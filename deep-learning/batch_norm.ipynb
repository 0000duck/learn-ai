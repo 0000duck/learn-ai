{
 "cells": [
  {
   "cell_type": "markdown",
   "metadata": {},
   "source": [
    "# Batch Norm\n",
    "\n",
    "Batch Norm是深度网络中经常使用的一种加速神经网络训练的方法，它可以**加速网络收敛的速度及稳定性**。\n"
   ]
  },
  {
   "cell_type": "markdown",
   "metadata": {},
   "source": [
    "## 数据分布对网络的影响\n",
    "\n",
    "DNN实际上主要一个目的就是**学习数据的分布**，从而可以建立特定的映射来适应这个分布。所以数据的分布状况会很影响网络的**泛化性与训练速度**，数据分布可能会出现以下几种情况：\n",
    "\n",
    "- **输入数据本身分布不一致，这种现象称为：协变量转变（Covariate  Shift）。**\n",
    "- **输入数据在经过一层层网络后，数据分布也会发生变化，这种现象被称为：内部协变量转变（Internal Covariate Shift [1]）**\n",
    "\n",
    "对于输入数据不一致的情况，可以见下图（图片来源于[2]）所示：\n",
    "\n",
    "![batch_norm1](./resources/batch_norm1.jpg)\n",
    "\n",
    "假设初始化分布如a所示，参数初始化为0均值和较小的方差，此时分类的直线最开始会在橘色直线处，经过多次迭代到达紫色直线，有了比较好的分类效果。但是如果可以一开始就归一化到0附近（见图c），会大大加快收敛速度；如果进一步通过变换加大了数据之间的相对差异性（见图d），那会更容易区分。\n",
    "\n",
    "Batch Norm则是通过对输入和每一层的batch进行**归一化与拉大差异**来加快训练速度。在这之前，主要是通过：使用较小的学习率，和小心的初始化参数，对数据做白化处理等方法来大概解决。"
   ]
  },
  {
   "cell_type": "markdown",
   "metadata": {},
   "source": [
    "## 算法\n",
    "\n",
    "下面演示了Batchnorm怎么对神经网络的每一层做归一化：\n",
    "\n",
    "![batch_norm2](./resources/batch_norm2.png)\n",
    "\n",
    "上面$BN$即batchnorm函数，原始批量输入为$x$的一个mini-batch，输出为$y$，主要分4步：\n",
    "\n",
    "1. **求批量均值;**\n",
    "2. **求batch的方差;**\n",
    "3. **对$x$做归一化;**\n",
    "4. **引入缩放变量$\\gamma$与平移变量$\\beta$，计算归一化后值$y$;**\n",
    "\n"
   ]
  },
  {
   "cell_type": "markdown",
   "metadata": {},
   "source": [
    "## 总结\n",
    "\n",
    "没有Batch norm之前，需要小心的调整学习率和权重初始化，有了batchnorm可以放心的使用大学习率。\n",
    "\n",
    "Batchnorm本身上也是一种正则的方式，可以代替其他正则方式如dropout等（存疑？）。\n",
    "\n",
    "**Batchnorm降低了数据之间的绝对差异，更多考虑了数据的相对差异，如果绝对差异很重要，可能不太适合。**"
   ]
  },
  {
   "cell_type": "markdown",
   "metadata": {},
   "source": [
    "## 参考资料\n",
    "\n",
    "[1] Ioffe S, Szegedy C. Batch normalization: accelerating deep network training by reducing internal covariate shift[C]// International Conference on International Conference on Machine Learning. JMLR.org, 2015:448-456.\n",
    "\n",
    "[2] [Batchnorm原理及代码详解](https://blog.csdn.net/qq_25737169/article/details/79048516)"
   ]
  }
 ],
 "metadata": {
  "kernelspec": {
   "display_name": "Python 3",
   "language": "python",
   "name": "python3"
  },
  "language_info": {
   "codemirror_mode": {
    "name": "ipython",
    "version": 3
   },
   "file_extension": ".py",
   "mimetype": "text/x-python",
   "name": "python",
   "nbconvert_exporter": "python",
   "pygments_lexer": "ipython3",
   "version": "3.6.5"
  }
 },
 "nbformat": 4,
 "nbformat_minor": 2
}
