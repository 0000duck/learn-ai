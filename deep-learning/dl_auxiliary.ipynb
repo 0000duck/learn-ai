{
 "cells": [
  {
   "cell_type": "markdown",
   "metadata": {},
   "source": [
    "# DL Auxiliary\n",
    "\n",
    "使用深度学习一些辅助知识。\n"
   ]
  },
  {
   "cell_type": "markdown",
   "metadata": {},
   "source": [
    "## 空间Softmax（Spatial Softmax）\n",
    "\n",
    "即对于一张图片每个通道中所有像素进行softmax分类，如下所示代码：\n",
    "\n",
    "```python\n",
    "# Assume features is of size [N, H, W, C] (batch_size, height, width, channels).\n",
    "# Transpose it to [N, C, H, W], then reshape to [N * C, H * W] to compute softmax\n",
    "# jointly over the image dimensions. \n",
    "features = tf.reshape(tf.transpose(features, [0, 3, 1, 2]), [N * C, H * W])\n",
    "softmax = tf.nn.softmax(features)\n",
    "# Reshape and transpose back to original format.\n",
    "softmax = tf.transpose(tf.reshape(softmax, [N, C, H, W]), [0, 2, 3, 1])\n",
    "```\n",
    "\n",
    "具体请参考：https://github.com/tensorflow/tensorflow/issues/6271 。"
   ]
  }
 ],
 "metadata": {
  "kernelspec": {
   "display_name": "Python 3",
   "language": "python",
   "name": "python3"
  },
  "language_info": {
   "codemirror_mode": {
    "name": "ipython",
    "version": 3
   },
   "file_extension": ".py",
   "mimetype": "text/x-python",
   "name": "python",
   "nbconvert_exporter": "python",
   "pygments_lexer": "ipython3",
   "version": "3.6.5"
  }
 },
 "nbformat": 4,
 "nbformat_minor": 2
}
