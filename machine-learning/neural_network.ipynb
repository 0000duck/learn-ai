{
 "cells": [
  {
   "cell_type": "markdown",
   "metadata": {},
   "source": [
    "# 神经网络\n",
    "产生神经网络的原因在于特征数目太多（如上百万）以至于传统机器学习无法处理。通过一些实验证明：不同功能的脑处理往往可能使用相似的算法。每一个神经元都可以被认为是一个处理单元/神经核（processing unit/Nucleus），它含有许多输入/树突（input/Dendrite），并且有一个输出/轴突（output/Axon）。相比于普通逻辑回归，神经网络每一层都提取一些特征，最后通过这些特征来预测结果值。注意：除输出层外，神经网络每一层都加一个偏置单元。\n",
    "\n",
    "前向计算：$z=\\Theta x,a=g(z)$，其中$g$函数是一个激活函数，如Relu。\n",
    "\n",
    "## 代价函数\n",
    "神经网络的代价函数与逻辑回归的基本思想一样，唯一不同的是，对于每一行特征，我们都会给出$K$个预测，然后再利用循环在$K$个预测中选择可能性最高的一个，将其与$y$中的实际数据进行比较。正则化则是对每一层的$\\Theta$都做处理。其代价函数如下：\n",
    "\n",
    "![%E5%BE%AE%E4%BF%A1%E5%9B%BE%E7%89%87_20180915112347.png](./resources/neural_network_costfunc.png)\n",
    "\n",
    "## 反向传播算法(BP)\n",
    "通过最后一层的结果与实际$y$的差异再层层反传以实现纠正权值的功能。需要明白反向传播算法与梯度下降算法的差异：**反向传播是训练神经网络的算法；梯度下降是求最优值的算法**。"
   ]
  },
  {
   "cell_type": "markdown",
   "metadata": {},
   "source": [
    "## 实现"
   ]
  },
  {
   "cell_type": "code",
   "execution_count": 4,
   "metadata": {},
   "outputs": [
    {
     "name": "stdout",
     "output_type": "stream",
     "text": [
      "[[-0.8113182   1.5238441   0.06349531]\n",
      " [-2.4427042   0.06568832  0.6111631 ]]\n",
      "[[-0.8113182 ]\n",
      " [ 1.5233549 ]\n",
      " [-0.17035116]]\n"
     ]
    }
   ],
   "source": [
    "import tensorflow as tf\n",
    "import numpy as np\n",
    "\n",
    "# 创建数据\n",
    "x = np.arange(4, dtype=np.float32).reshape(2, 2)\n",
    "y = np.array([0, 1], dtype=np.float32).reshape(2, 1)\n",
    "\n",
    "# 创建权值与偏差\n",
    "w1 = tf.Variable(tf.random_normal([2, 3], stddev=1, seed=1))\n",
    "w2 = tf.Variable(tf.random_normal([3, 1], stddev=1, seed=1))\n",
    "b1 = tf.Variable(tf.zeros([3]))\n",
    "b2 = tf.Variable(tf.zeros([1]))\n",
    "\n",
    "# 得到结果\n",
    "a = tf.nn.relu(tf.matmul(x, w1)+b1)\n",
    "y_ = tf.matmul(a, w2) + b2\n",
    "\n",
    "cost = tf.nn.sigmoid_cross_entropy_with_logits(logits=y_, labels=y, name=None)\n",
    "train_op = tf.train.GradientDescentOptimizer(0.01).minimize(cost) \n",
    "\n",
    "with tf.Session() as sess: \n",
    "    init = tf.global_variables_initializer()\n",
    "    sess.run(init)\n",
    "    for i in range(100):  \n",
    "        sess.run(train_op) \n",
    "\n",
    "    print(sess.run(w1))\n",
    "    print(sess.run(w2))"
   ]
  }
 ],
 "metadata": {
  "kernelspec": {
   "display_name": "Python 3",
   "language": "python",
   "name": "python3"
  },
  "language_info": {
   "codemirror_mode": {
    "name": "ipython",
    "version": 3
   },
   "file_extension": ".py",
   "mimetype": "text/x-python",
   "name": "python",
   "nbconvert_exporter": "python",
   "pygments_lexer": "ipython3",
   "version": "3.6.5"
  }
 },
 "nbformat": 4,
 "nbformat_minor": 2
}
