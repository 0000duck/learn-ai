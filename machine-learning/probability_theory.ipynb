{
 "cells": [
  {
   "cell_type": "markdown",
   "metadata": {},
   "source": [
    "# 概率论（Probability Theory）"
   ]
  },
  {
   "cell_type": "markdown",
   "metadata": {},
   "source": [
    "## 随机变量\n",
    "\n",
    "随机变量是**针对随机实验的**，它是一个随机实验产生的可能的结果的集合。假设有一个实验，其内容为随机地在校园内观察一个人的性别。则针对这个随机实验，它对应的随机变量$X$是离散型的，其全部可能的取值为`{a1='boy', a2='girl'}`，$X$的概率函数为：$p_i=P(X=a_i), i=1,2$。\n",
    "\n"
   ]
  },
  {
   "cell_type": "markdown",
   "metadata": {},
   "source": [
    "## 最大似然估计\n",
    "\n",
    "针对$N$次随机试验，随机变量$X$的某一个取值$a_k$出现了$k$次，则$\\dfrac{k}{N}$称为$a_k$在这$N$次实验中的相对频率。当$N$越来越大时，这个值将越来越接近其真实的概率分布$p_k$，这时候可用相对频率作为概率的估计值，这种估计方法称为**最大似然估计**。"
   ]
  },
  {
   "cell_type": "markdown",
   "metadata": {},
   "source": [
    "## 条件概率\n",
    "\n",
    "假设$A$跟$B$是样本空间上两个事件，比如可能：$A$事件表示观察到一个同学是男生；$B$事件表示观察到一个同学穿长裤。那么观察到一个同学穿长裤它是男生的条件概率$P(A|B)$为：$P(A|B)=\\dfrac{P(A,B)}{P(B)}$，其中$P(A,B)$表示事件$A$与事件$B$同时发生的概率。\n"
   ]
  }
 ],
 "metadata": {
  "kernelspec": {
   "display_name": "Python 3",
   "language": "python",
   "name": "python3"
  },
  "language_info": {
   "codemirror_mode": {
    "name": "ipython",
    "version": 3
   },
   "file_extension": ".py",
   "mimetype": "text/x-python",
   "name": "python",
   "nbconvert_exporter": "python",
   "pygments_lexer": "ipython3",
   "version": "3.6.5"
  }
 },
 "nbformat": 4,
 "nbformat_minor": 2
}
