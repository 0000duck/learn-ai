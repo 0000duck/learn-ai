{
 "cells": [
  {
   "cell_type": "markdown",
   "metadata": {},
   "source": [
    "# Optimal Solution with Constraint\n",
    "带约束条件的最优化问题求解。\n",
    "\n",
    "一个最优化问题通常有两个最基本的因素：\n",
    "- 目标函数，也就是你希望什么东西的什么指标达到最好;\n",
    "- 优化对象，你期望通过改变哪些因素来使你的目标函数达到最优;"
   ]
  },
  {
   "cell_type": "markdown",
   "metadata": {},
   "source": [
    "## 最优问题约束条件的几何意向\n",
    "约束条件一般分为等式约束和不等式约束两种，前者表示为$g(\\boldsymbol{x})=0$；后者表示为$g(\\boldsymbol{x})\\leq0$。\n",
    "\n",
    "假设$\\boldsymbol{x}\\in\\mathbb{R}^d$（就是这个向量一共有d个标量组成），则$g(\\boldsymbol{x})=0$的几何意象就是d维空间中的d-1维曲面，如果函数$g(\\boldsymbol{x})$是线性的，$g(\\boldsymbol{x})=0$则是个d-1维的超平面。那么有约束优化问题就要求在这个d-1维的曲面或者超平面上找到能使得目标函数最小的点，这个d-1维的曲面就是“可行解区域”。\n",
    "\n",
    "对于不等式约束条件，$g(\\boldsymbol{x})\\leq0$，则可行解区域从d-1维曲面扩展成为d维空间的一个子集。我们可以从d=2的二维空间进行对比理解。等式约束对应的可行解空间就是一条线；不等式约束对应的则是这条线以及线的某一侧对应的区域，就像下面这幅图的样子（图中的目标函数等高线其实就是等值线，在同一条等值线上的点对应的目标函数值相同）：\n",
    "\n",
    "![svm2](./resources/svm2.jpg)"
   ]
  },
  {
   "cell_type": "markdown",
   "metadata": {},
   "source": [
    "## 求解等式约束条件下最优解：拉格朗日乘子法\n",
    "假设目标函数为$f(\\boldsymbol{x})$，约束条件为$g(\\boldsymbol{x})$。拉格朗日乘子法的基本思想是把约束条件转化为新的目标函数$L(\\boldsymbol{x},\\lambda)$的一部分，从而使有约束优化问题变成我们习惯的无约束优化问题。\n",
    "\n",
    "对于等式约束条件下情况（上图左），我们观察一下图中的红色虚线（可行解空间）和蓝色虚线（目标函数的等值线），发现这个被约束的最优解恰好在二者相切的位置（证明从略）。则可以得到：$\\nabla f(\\boldsymbol{x}^*)+\\lambda \\nabla g(\\boldsymbol{x}^*)=0$（因为两者的梯度在一条直线上），且$g(\\boldsymbol{x}^*)=0$，根据这两个式子即可求得最优解$x^*$。\n",
    "\n",
    "为了在数学上更加便捷和优雅一点，我们构造一个拉格朗日函数，将有约束优化问题转为无约束优化问题。拉格朗日函数具体形式如下：$L(\\boldsymbol{x},\\lambda)=f(\\boldsymbol{x})+\\lambda g(\\boldsymbol{x})$,将公式分别对$\\boldsymbol{x}$,$\\lambda$求导，令结果等于零，就可以建立两个方程（就是前面的两个）。"
   ]
  },
  {
   "cell_type": "markdown",
   "metadata": {},
   "source": [
    "## 获得不等式最优解约束条件：KKT条件\n",
    "对于不等式约束条件$g(\\boldsymbol{x})\\leq0$的情况，如下图所示，最优解所在的位置$\\boldsymbol{x}^*$有两种可能，或者在边界曲线$g(\\boldsymbol{x})=0$上或者在可行解区域内部满足不等式$g(\\boldsymbol{x})<0$的地方。\n",
    "\n",
    "![svm3](./resources/svm3.jpg)\n",
    "\n",
    "对于第一种情况则：$\\lambda>0$（$f(x)$梯度与$g(x)$梯度相反）,$ g(x)=0$；对于第二种情况：$\\lambda=0$（相当于约束条件没有起作用）,$g(x)<0$。无论哪一种情况都有$\\lambda g(\\boldsymbol{x})=0$。所以可得到KKT条件如下：\n",
    "\n",
    "> $\\begin{array}{lr} g(\\boldsymbol{x})\\leq0~ & (1)\\\\ \\lambda\\geq0~ & (2)\\\\ \\lambda g(\\boldsymbol{x})=0 & (3) \\end{array}$\n",
    "\n",
    "注意：**KKT条件是对最优解的约束，而原始问题中的约束条件是对可行解的约束**。"
   ]
  },
  {
   "cell_type": "markdown",
   "metadata": {},
   "source": [
    "## 拉格朗日对偶\n",
    "对于不等式约束条件，可尝试构造一个函数，使得该函数在可行解区域内与原目标函数完全一致，而在可行解区域外的数值非常大，甚至是无穷大。那么这个没有约束条件的新目标函数的优化问题就与原来有约束条件的原始目标函数的优化是等价的问题。拉格朗日对偶则是服务于这个问题。\n",
    "\n",
    "到这里可以将最优解问题分为三个层次：\n",
    "- **有约束的原始目标函数优化问题**；\n",
    "- **新构造的拉格朗日目标函数优化问题**（适合等式约束）；\n",
    "- **拉格朗日对偶函数的优化问题**（针对不等式约束）；"
   ]
  },
  {
   "cell_type": "markdown",
   "metadata": {},
   "source": [
    "1.更具有一般性的原始目标函数（有约束条件）可表示为：\n",
    "\n",
    "> $\\begin{array}{lll} \\min_{\\boldsymbol{x}} & f(\\boldsymbol{x}) & ~\\\\ \\textrm{s. t.} & h_i(\\boldsymbol{x})=0 & i=1,2,\\ldots,m\\\\ ~ & g_j(\\boldsymbol{x})\\leq 0 & j = 1,2,\\ldots,n\\\\ \\end{array} $\n",
    "\n",
    "上式表示m个等式约束条件和n个不等式约束条件下的目标函数$f(\\boldsymbol{x})$的最小化问题。"
   ]
  },
  {
   "cell_type": "markdown",
   "metadata": {},
   "source": [
    "2.新构造的目标函数（没有约束条件）可表示为：\n",
    ">$\\theta_P(\\boldsymbol{x})=\\max_{\\boldsymbol{\\alpha},~\\boldsymbol{\\beta};~\\beta_j\\geq0}L(\\boldsymbol{x},\\boldsymbol{\\alpha},\\boldsymbol{\\beta})=f(\\boldsymbol{x})+\\max_{\\boldsymbol{\\alpha},~\\boldsymbol{\\beta};~\\beta_j\\geq0}\\left[ \\sum_{i=1}^m\\alpha_i h_i(\\boldsymbol{x})+\\sum_{j=1}^n\\beta_j g_j(\\boldsymbol{x}) \\right]$\n",
    "\n",
    "> 上面的函数完成了将约束条件跟目标函数组合起来的目的（等于去掉了约束条件）。为什么是$max$后面部分？因为后面最大，前面才能最小。\n",
    "\n",
    "设$\\Phi$为可行解区域。当在可行解区域内：由于$h_i(\\boldsymbol{x})=0~\\forall i，g_j(\\boldsymbol{x})\\leq0$，且系数$\\beta_j\\geq0,~\\forall j$，所以后面$max$部分始终等于0（与原目标函数目标一致）；当在可行解区域外：则至少有一组约束条件没有得到满足。如果$h_i(\\boldsymbol{x})\\neq0$，则调整系数$\\alpha_i$就可以使$\\alpha_ih_i(\\boldsymbol{x})\\rightarrow +\\infty $；如果$g_j(\\boldsymbol{x})>0$，调整系数$\\beta_j$就可以使$\\beta_jg_j(\\boldsymbol{x})\\rightarrow +\\infty$，所以后面的$max$部分等于无穷大。所以目标函数的取值情况如下：\n",
    "> $\\theta_P(\\boldsymbol{x})=\\left\\{ \\begin{array}{ll} f(\\boldsymbol{x}) & \\boldsymbol{x}\\in\\Phi\\\\ +\\infty & \\textrm{otherwise} \\end{array} \\right.$\n",
    "\n",
    "这样就完成了建立一个在可行解区域内与原目标函数相同，在可行解区域外函数值趋近于无穷大的新函数，原问题变为了求：$ \\min_{\\boldsymbol{x}}\\left[\\theta_P(\\boldsymbol{x})\\right]= \\min_{\\boldsymbol{x}}\\left[ \\max_{\\boldsymbol{\\alpha},\\boldsymbol{\\beta}:\\beta_j\\geq0}L(\\boldsymbol{x},\\boldsymbol{\\alpha},\\boldsymbol{\\beta}) \\right]$。"
   ]
  },
  {
   "cell_type": "markdown",
   "metadata": {},
   "source": [
    "3.我们再构造另一个函数，叫做：$\\theta_D(\\boldsymbol{\\alpha},\\boldsymbol{\\beta})=\\min_{\\boldsymbol{x}}L(\\boldsymbol{x},\\boldsymbol{\\alpha},\\boldsymbol{\\beta})$，然后给出另外一个优化问题的描述：$\\max_{\\boldsymbol{\\alpha},\\boldsymbol{\\beta}:\\beta_j\\geq0}\\left[\\theta_D(\\boldsymbol{\\alpha},\\boldsymbol{\\beta})\\right]= \\max_{\\boldsymbol{\\alpha},\\boldsymbol{\\beta}:\\beta_j\\geq0} \\left[ \\min_{\\boldsymbol{x}}L(\\boldsymbol{x},\\boldsymbol{\\alpha},\\boldsymbol{\\beta}) \\right]$，本式子就是上面式子的对偶(Dual)问题，可以证明对偶问题存在相同的解$\\boldsymbol{x}^*,\\boldsymbol{\\alpha}^*,\\boldsymbol{\\beta}^*$，这样我们就可以在对偶问题中选择比较简单的一个来求解。\n",
    "\n",
    "下面给出一个拉格朗日对偶函数的示例图，并给出求解方法：\n",
    "![svm4](./resources/svm4.jpg)\n",
    "\n",
    "我们可以设计拉格朗日函数如下：$L(\\boldsymbol{x},\\alpha,\\beta)=(x_1^2+x_2^2)+\\alpha(x_1-x_2-2)+\\beta\\left[(x_1-2)^2+x_2^2-1\\right]$，并构造其对偶函数：$\\theta_D(\\alpha,\\beta)=\\min_\\boldsymbol{x}\\left[L(\\boldsymbol{x},\\alpha,\\beta)\\right]$，因为对偶函数中$x$变为唯一自变量，这个时候$\\alpha$,$\\beta$被视为常数，分别对$x_1$,$x_2$求偏导等于0，有：\n",
    "\n",
    "$\\left\\{\\begin{array}{l} \\alpha + 2x_1 + \\beta (2x_1 - 4)=0\\\\ 2x_2 - \\alpha + 2\\beta x_2=0 \\end{array}\\right. $\n",
    "\n",
    "可以解得:\n",
    "\n",
    "$\\left\\{ \\begin{array}{l} x_1 = \\dfrac{4\\beta-a}{2\\beta + 2}\\\\ x_2 = \\dfrac{\\alpha}{2\\beta + 2} \\end{array}\\right. $\n",
    "\n",
    "代回$\\theta_D(\\alpha,\\beta)$则:\n",
    "\n",
    "$\\theta_D(\\alpha,\\beta)= -\\dfrac{\\alpha^2 + 4\\, \\alpha + 2\\, \\beta^2 - 6\\, \\beta}{2\\, \\left(\\beta + 1\\right)}$\n",
    "\n",
    "再通过 $\\theta_D(\\alpha,\\beta)$ 对 $\\alpha,\\beta$ 求导等于0的方式解出最优解 $\\alpha^*=-2,~\\beta^*=\\sqrt{2}-1$，代回可求得$x^*$。"
   ]
  },
  {
   "cell_type": "markdown",
   "metadata": {},
   "source": [
    "## 参考\n",
    "1. https://www.zhihu.com/question/21094489/answer/86273196\n",
    "2. [零基础学SVM—Support Vector Machine(一)](https://zhuanlan.zhihu.com/p/24638007)"
   ]
  }
 ],
 "metadata": {
  "kernelspec": {
   "display_name": "Python 3",
   "language": "python",
   "name": "python3"
  },
  "language_info": {
   "codemirror_mode": {
    "name": "ipython",
    "version": 3
   },
   "file_extension": ".py",
   "mimetype": "text/x-python",
   "name": "python",
   "nbconvert_exporter": "python",
   "pygments_lexer": "ipython3",
   "version": "3.6.5"
  }
 },
 "nbformat": 4,
 "nbformat_minor": 2
}
