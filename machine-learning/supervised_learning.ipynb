{
 "cells": [
  {
   "cell_type": "markdown",
   "metadata": {},
   "source": [
    "# Supervised Learning\n",
    "## Overview\n",
    "监督学习就是有标签的学习，包含：\n",
    "- 回归（regression）：连续值的预测\n",
    "- 分类（classification）：离散值的预测"
   ]
  },
  {
   "cell_type": "markdown",
   "metadata": {},
   "source": [
    "## 单变量线性回归\n",
    "### 模型表示（Model）\n",
    "就是学习到一个hypothesis函数，输入$x$后预测$y$值，$h$函数的形式表示为：\n",
    "$h_\\theta \\left( x \\right)=\\theta_{0}+\\theta_{1}x$\n",
    "### 代价函数（Cost Function）\n",
    "使用**平方误差函数**作为代价函数，其形式表示为：\n",
    "$J \\left( \\theta_0, \\theta_1 \\right) = \\dfrac{1}{2m}\\sum\\limits_{i=1}^m \\left( h_{\\theta}(x^{(i)})-y^{(i)} \\right)^{2}$\n",
    "### 目标（Goal）\n",
    "模型的目标为：$minimize \\ J(\\theta_0,\\theta_1)$\n",
    "### 梯度下降 - 迭代算法\n",
    "一种用来求函数最小值的**迭代算法**，其核心思想在于：寻找降速最快的方向下降靠近最小值。 \n",
    "\n",
    "- 批量梯度下降（batch gradient descent）的算法：  \n",
    "$Repeat \\ until \\ convergence \\{ \\\\ \\ \\ \\theta_j := \\theta_j - \\alpha\\dfrac{\\partial}{\\partial\\theta_j}J(\\theta_0, \\theta_1) \\ \\ (for \\ j=0 \\ and \\ j=1) \\\\ \\}$\n",
    "\n",
    "- 带入式子：  \n",
    "$Repeat \\ until \\ convergence \\{ \\\\ \\ \\theta_{0}:={\\theta_{0}}-a\\dfrac{1}{m}\\sum\\limits_{i=1}^{m}{ \\left({{h}_{\\theta }}({{x}^{(i)}})-{{y}^{(i)}} \\right)} \\\\\n",
    "\\ {\\theta_{1}}:={\\theta_{1}}-a\\dfrac{1}{m}\\sum\\limits_{i=1}^{m}{\\left( \\left({{h}_{\\theta }}({{x}^{(i)}})-{{y}^{(i)}} \\right)\\cdot {{x}^{(i)}} \\right)} \\\\ \\}$\n",
    "\n",
    "> 注意需要同时更新$\\theta_0$和$\\theta_1$  \n",
    "> 注意在计算过程中并不需要减小$\\alpha$\n",
    "\n",
    "### 正规方程 - 数值解法"
   ]
  },
  {
   "cell_type": "markdown",
   "metadata": {},
   "source": [
    "## 矩阵学习\n",
    "### 矩阵转置\n",
    "将$A$的所有元素绕着一条从第1行第1列元素出发的右下方45度的射线作镜面反转，即得到$A$的转置。"
   ]
  }
 ],
 "metadata": {
  "kernelspec": {
   "display_name": "Python 3",
   "language": "python",
   "name": "python3"
  },
  "language_info": {
   "codemirror_mode": {
    "name": "ipython",
    "version": 3
   },
   "file_extension": ".py",
   "mimetype": "text/x-python",
   "name": "python",
   "nbconvert_exporter": "python",
   "pygments_lexer": "ipython3",
   "version": "3.6.5"
  }
 },
 "nbformat": 4,
 "nbformat_minor": 2
}
