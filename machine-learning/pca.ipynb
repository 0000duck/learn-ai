{
 "cells": [
  {
   "cell_type": "markdown",
   "metadata": {},
   "source": [
    "# 降维(Dimensionality Reduction)\n",
    "\n",
    "使用降维可能有两个原因：\n",
    "1. **数据压缩，消除冗余特征** \n",
    "2. **数据可视化**"
   ]
  },
  {
   "cell_type": "markdown",
   "metadata": {},
   "source": [
    "## Principal Component Analysis(PCA)\n",
    "\n",
    "主成分分析(PCA)是最常见的降维算法。在PCA中，我们要做的是找到一组低维度向量，当我们把所有的数据都投射到该组向量上时，我们希望投射平均均方误差能尽可能地小。\n",
    "\n",
    "定性描述为：**问题是要将$n$维数据降至$k$维，目标是找到向量$u^{(1)}$,$u^{(2)}$,...,$u^{(k)}$使得总的投射误差（Projected Error）最小。**\n",
    "\n",
    "下面展示了线性回归与PCA的区别：\n",
    "\n",
    "![dr1](./resources/dr1.png)\n",
    "\n",
    "上图中，左边的是线性回归的误差（垂直于横轴投影），右边则是主要成分分析的误差（垂直于红线投影）。"
   ]
  },
  {
   "cell_type": "markdown",
   "metadata": {},
   "source": [
    "### 选择主成分的数量\n",
    "我们希望在平均均方误差与训练集方差的比例尽可能小的情况下选择尽可能小的$k$值。"
   ]
  }
 ],
 "metadata": {
  "kernelspec": {
   "display_name": "Python 3",
   "language": "python",
   "name": "python3"
  },
  "language_info": {
   "codemirror_mode": {
    "name": "ipython",
    "version": 3
   },
   "file_extension": ".py",
   "mimetype": "text/x-python",
   "name": "python",
   "nbconvert_exporter": "python",
   "pygments_lexer": "ipython3",
   "version": "3.6.5"
  }
 },
 "nbformat": 4,
 "nbformat_minor": 2
}
