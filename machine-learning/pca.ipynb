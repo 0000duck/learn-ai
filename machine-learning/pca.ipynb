{
 "cells": [
  {
   "cell_type": "markdown",
   "metadata": {},
   "source": [
    "# 降维(Dimensionality Reduction)\n",
    "\n",
    "使用降维可能有两个原因：\n",
    "1. **数据压缩，消除冗余特征** \n",
    "2. **数据可视化**"
   ]
  },
  {
   "cell_type": "markdown",
   "metadata": {},
   "source": [
    "## Principal Component Analysis(PCA)\n",
    "\n",
    "主成分分析(PCA)是最常见的降维算法。在PCA中，我们要做的是找到一组低维度向量，当我们把所有的数据都投射到该组向量上时，我们希望投射平均均方误差能尽可能地小，要注意一点，**PCA并不是简单的剔除掉一些特征，而是将现有的特征进行一些变换，选择最能表达该数据集的最好的几个特征来达到降维目的**。\n",
    "\n",
    "定性描述为：**问题是要将$n$维数据降至$k$维，目标是找到向量$u^{(1)}$,$u^{(2)}$,...,$u^{(k)}$使得总的投射误差（Projected Error）最小。**\n",
    "\n",
    "下面展示了线性回归与PCA的区别：\n",
    "\n",
    "![dr1](./resources/dr1.png)\n",
    "\n",
    "上图中，左边的是线性回归的误差（垂直于横轴投影），右边则是主要成分分析的误差（垂直于红线投影）。"
   ]
  },
  {
   "cell_type": "markdown",
   "metadata": {},
   "source": [
    "### 选择主成分的数量\n",
    "我们希望在平均均方误差与训练集方差的比例尽可能小的情况下选择尽可能小的$k$值。"
   ]
  },
  {
   "cell_type": "markdown",
   "metadata": {},
   "source": [
    "## 代码实现(sklearn)"
   ]
  },
  {
   "cell_type": "code",
   "execution_count": 3,
   "metadata": {},
   "outputs": [
    {
     "name": "stdout",
     "output_type": "stream",
     "text": [
      "[[-1 -1]\n",
      " [-2 -1]\n",
      " [-3 -2]\n",
      " [ 1  1]\n",
      " [ 2  1]\n",
      " [ 3  2]]\n",
      "[[ 1.38340578  0.2935787 ]\n",
      " [ 2.22189802 -0.25133484]\n",
      " [ 3.6053038   0.04224385]\n",
      " [-1.38340578 -0.2935787 ]\n",
      " [-2.22189802  0.25133484]\n",
      " [-3.6053038  -0.04224385]]\n",
      "特征表达比例：\n",
      "[0.99244289 0.00755711]\n"
     ]
    }
   ],
   "source": [
    "import numpy as np\n",
    "from sklearn.decomposition import PCA\n",
    "\n",
    "X = np.array([[-1, -1], [-2, -1], [-3, -2], [1, 1], [2, 1], [3, 2]])\n",
    "pca = PCA(n_components=2)\n",
    "newX = pca.fit_transform(X)\n",
    "\n",
    "print(X)\n",
    "print(newX)\n",
    "print(\"特征表达比例：\")\n",
    "print(pca.explained_variance_ratio_)  # 可以发现第一个特征可以99.24%表达整个数据集"
   ]
  }
 ],
 "metadata": {
  "kernelspec": {
   "display_name": "Python 3",
   "language": "python",
   "name": "python3"
  },
  "language_info": {
   "codemirror_mode": {
    "name": "ipython",
    "version": 3
   },
   "file_extension": ".py",
   "mimetype": "text/x-python",
   "name": "python",
   "nbconvert_exporter": "python",
   "pygments_lexer": "ipython3",
   "version": "3.6.5"
  }
 },
 "nbformat": 4,
 "nbformat_minor": 2
}
