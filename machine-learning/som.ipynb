{
 "cells": [
  {
   "cell_type": "markdown",
   "metadata": {},
   "source": [
    "## 概述\n",
    "自组织映射网络(Self-organizing Mapping)是一种常用的聚类方法。\n",
    "> 注意：我们设置输出层的网络m*n,然后训练它，测试的时候，数据会被map到任意一个点上，我们认为相似的数据会聚集在相临的节点上。\n",
    "\n",
    "## 网络结构\n",
    "![som_structure.png](./sources/som_structure.png)\n",
    "它常分为输入层与竞争层(输出层)。\n",
    "- 输入层：假设一个输入样本为X=[x1,x2,x3,…,xn]，是一个n维向量，则输入层神经元个数为n个。\n",
    "- 竞争层：通常输出层的神经元以矩阵方式排列在二维空间中，每个神经元都有一个权值向量，**权值向量维度与输入层样本维度相同**。假设输出层有m个神经元，则有m个权值向量。\n",
    "\n",
    "> 注意上图中的$x_i$为第i个样本\n",
    "> 输入层的每一个节点都与竞争层的所有节点全连接"
   ]
  },
  {
   "cell_type": "markdown",
   "metadata": {},
   "source": [
    "## 算法步骤\n",
    "1. **初始化**：初始化竞争层m的数目与m个元素的权值向量\n",
    "2. **输入比较**：样本输入网络，通过比较样本与m个权值向量的相似性，记相似性最大的竞争层节点为获胜者\n",
    "3. **调整权值**：更新获胜者节点的权值\n",
    "4. **循环迭代**：重复2，3"
   ]
  },
  {
   "cell_type": "markdown",
   "metadata": {},
   "source": [
    "### 初始化\n",
    "每个竞争层节点的权值可以初始化为（0, 1）之间的随机数。"
   ]
  },
  {
   "cell_type": "code",
   "execution_count": 21,
   "metadata": {},
   "outputs": [
    {
     "name": "stdout",
     "output_type": "stream",
     "text": [
      "Output layers: [[0.92, 0.99], [0.91, 0.23], [0.35, 0.67], [0.51, 0.12], [0.64, 0.1]]\n"
     ]
    }
   ],
   "source": [
    "import random\n",
    "def initOutputLayer(m, n):  # m为竞争层节点数目；n为每一个节点的维度\n",
    "    layers = []\n",
    "    random.seed()\n",
    "    for i in range(m):\n",
    "        unit = []  # 每一个节点\n",
    "        for j in range(n):\n",
    "            unit.append(round(random.random(),2))\n",
    "        layers.append(unit)\n",
    "    return layers\n",
    "\n",
    "m = 5\n",
    "n = 2\n",
    "layers = initOutputLayer(m, n)\n",
    "print(\"Output layers:\", layers)"
   ]
  },
  {
   "cell_type": "markdown",
   "metadata": {},
   "source": [
    "### 输入比较\n",
    "做比较之间可以先对所有的竞争层节点权值向量与输入向量归一化，然后再使用如**欧式距离**比较相似度。  \n",
    "竞争层第j个节点的权值归一化计算方式：$W_j=\\dfrac{W_j}{||W_j||}$  \n",
    "输入向量归一化计算方式：$X=\\dfrac{X}{||X||}$  \n",
    "两个维度都为n的向量之间的欧式距离计算方式：\n",
    "![som_udistance.png](./sources/som_udistance.png)\n",
    "> 这里$X$与$W_j$都是n维向量  \n",
    "> ||X||为二范数，其代表该向量的长度，是一个标量  \n",
    "> 相似度比较函数可参考：https://www.cnblogs.com/liujinhong/p/6001997.html\n",
    "\n",
    "#### 合作过程\n",
    "当一个神经元被激活时，最近的邻居节点往往比那些远离的邻居节点更兴奋。并且存在一个随距离衰减的拓扑邻域。如果$S_{ij}$是竞争层两个神经元之间的距离，则拓扑领域为:  \n",
    "$T_{j,I(x)}=exp(-\\dfrac{S_{j,I(x)}^2}{2\\sigma^2})$  \n",
    "其中$I(x)$为获胜神经元索引。该函数有几个重要的特性：  \n",
    "- 它在获胜的神经元中是最大的，且关于该神经元对称\n",
    "- 当距离达到无穷大时，它单调地衰减到零。  \n",
    "\n",
    "SOM的一个特点是$\\sigma$需要随着时间的推移而减少，这实际上就是一个拓扑域逐渐减小的过程。常见的时间依赖性关系是指数型衰减：  \n",
    "$\\sigma(t)=\\sigma_0exp(\\dfrac{-t}{t_\\sigma})$  \n",
    "这样不仅获胜的神经元能够得到权重更新，它的邻居也将更新它们的权重，尽管不如获胜神经元更新的幅度大。"
   ]
  },
  {
   "cell_type": "code",
   "execution_count": 22,
   "metadata": {},
   "outputs": [
    {
     "name": "stdout",
     "output_type": "stream",
     "text": [
      "Inputs normalization: [[0.45, 0.89], [0.6, 0.8], [0.64, 0.77], [0.66, 0.75], [0.55, 0.83]]\n",
      "Weights normalization: [[0.68, 0.73], [0.97, 0.25], [0.46, 0.89], [0.97, 0.23], [0.99, 0.15]]\n",
      "Winner index: 2\n"
     ]
    }
   ],
   "source": [
    "import numpy.linalg as LA  # 计算范数\n",
    "import math\n",
    "\n",
    "def normalization(v):  # v为向量\n",
    "    norm = LA.norm(v, 2)  # 计算2范数\n",
    "    v_new = []\n",
    "    for i in range(len(v)):\n",
    "        v_new.append(round(v[i]/norm,2))  # 保留2位小数\n",
    "    return v_new\n",
    "\n",
    "def normalizationVList(X):  \n",
    "    X_new = []\n",
    "    for x in X:\n",
    "        X_new.append(normalization(x))\n",
    "    return X_new\n",
    "\n",
    "def calSimilarity(x, y):  # 计算x,y两个向量的相似度\n",
    "    if len(x)!=len(y):\n",
    "        raise \"维度不一致！\"\n",
    "    c = 0\n",
    "    for i in range(len(x)):\n",
    "        c += pow((x[i] - y[i]), 2)\n",
    "    return  math.sqrt(c)\n",
    "\n",
    "def getWinner(x, layers):  # 找到layers里面与x最相似的节点\n",
    "    # x = normalization(x)\n",
    "    # layers = normalizationVList(layers)\n",
    "    min_value = 100000  # 存储最短距离\n",
    "    min_index = -1  # 存储跟x最相似节点的竞争层节点index\n",
    "    for i in range(len(layers)):\n",
    "        v = calSimilarity(x, layers[i])\n",
    "        if v < min_value:\n",
    "            min_value = v\n",
    "            min_index = i\n",
    "    return min_index  # 返回获胜节点index\n",
    "    \n",
    "# 输入数据处理\n",
    "X = [[1, 2], [3, 4], [5, 6], [7, 8], [2, 3]]  # 输入列表\n",
    "X_norm = normalizationVList(X)\n",
    "print(\"Inputs normalization:\", X_norm)  # 输入数据归一化\n",
    "# 权值处理\n",
    "layers_norm = normalizationVList(layers)\n",
    "print(\"Weights normalization:\", layers_norm)  # 权值归一化\n",
    "# 计算某一个x输入的竞争层胜利节点\n",
    "winner_index = getWinner(X_norm[0], layers_norm)\n",
    "print(\"Winner index:\", winner_index)"
   ]
  },
  {
   "cell_type": "markdown",
   "metadata": {},
   "source": [
    "### 调整权值\n",
    "#### 只有竞争单元调整\n",
    "竞争胜利的单元可以调整自己的权值，调整方式可以采用如下方式：  \n",
    "$w(t+1) = w(t) + \\alpha(x-w(t))$\n",
    "\n",
    "> 其中$\\alpha$为学习率，它可以通过如下式子计算：  \n",
    "> $\\alpha=f(t)e^{-n}$ (其中`f(t)`为迭代次数的倒数)\n",
    "\n",
    "#### 拓扑域内调整\n",
    "假设输入单元i和神经元j的连接权重为$w_{ji}$,则第j个神经元到第i个输入单元的权值差值可由以下式子计算：  \n",
    "$\\Delta w_{ji} = \\alpha(t)T_{j,I(x)}(t)(x_i - w_{ji})$  \n",
    "$\\alpha(t)$是依赖时间的学习率：$\\alpha(t)=\\alpha_0exp(\\dfrac{-t}{t_\\alpha})$  "
   ]
  },
  {
   "cell_type": "code",
   "execution_count": 23,
   "metadata": {},
   "outputs": [
    {
     "name": "stdout",
     "output_type": "stream",
     "text": [
      "After Adjust: [0.675, 1.335]\n"
     ]
    }
   ],
   "source": [
    "# 只有竞争单元调整\n",
    "def adjustWeight(w, x, alpha):  # w为要调整的权值向量；x为输入向量；alpha为学习率\n",
    "    if len(w)!=len(x):\n",
    "        raise \"w,x维度应该相等！\"\n",
    "    w_new = []\n",
    "    for i in range(len(w)):\n",
    "        w_new.append(w[i] + alpha*(x[i] - w[i]))\n",
    "    return w_new\n",
    "\n",
    "alpha = 0.5  # 学习参数\n",
    "print(\"After Adjust:\", adjustWeight(layers[winner_index], X[0], alpha))"
   ]
  },
  {
   "cell_type": "markdown",
   "metadata": {},
   "source": [
    "###  循环迭代\n",
    "重复输入比较与调整权值，可以选择在以下条件成立时结束迭代：  \n",
    "- 学习率小于某个阈值\n",
    "- 达到预设的迭代次数"
   ]
  },
  {
   "cell_type": "markdown",
   "metadata": {},
   "source": [
    "## 整体代码\n",
    "完整代码如下所示。"
   ]
  },
  {
   "cell_type": "code",
   "execution_count": 24,
   "metadata": {},
   "outputs": [
    {
     "name": "stderr",
     "output_type": "stream",
     "text": [
      "No handles with labels found to put in legend.\n"
     ]
    },
    {
     "name": "stdout",
     "output_type": "stream",
     "text": [
      "Original layers: [[0.74, 0.0], [0.33, 0.73], [0.51, 0.66]]\n",
      "After train layers: [[0.9090820650777696, 0.2805652370465652], [0.12340181297278771, 0.38986865322492825], [0.79354190099109, 0.6946147365909863]]\n"
     ]
    },
    {
     "data": {
      "image/png": "[encoded data removed]",
      "text/plain": [
       "<matplotlib.figure.Figure at 0x2165c452cc0>"
      ]
     },
     "metadata": {},
     "output_type": "display_data"
    }
   ],
   "source": [
    "import random\n",
    "import matplotlib.pyplot as plt\n",
    "\n",
    "def createData(num, dim):  # 数据组数与数据维度\n",
    "    data = []\n",
    "    for i in range(num):\n",
    "        pair = []\n",
    "        for j in range(dim):\n",
    "            pair.append(random.random())\n",
    "        data.append(pair)\n",
    "    return data\n",
    "\n",
    "# 参数设置\n",
    "train_times = 10  # 训练次数\n",
    "data_dim = 2 # 数据维度\n",
    "train_num = 160\n",
    "test_num = 40\n",
    "learn_rate = 0.5  # 学习参数\n",
    "\n",
    "# 生成数据\n",
    "random.seed()\n",
    "# 生成训练数据\n",
    "train_X = createData(train_num, data_dim)\n",
    "# 生成测试数据\n",
    "test_X = createData(test_num, data_dim)\n",
    "# print(test_X)\n",
    "\n",
    "# 初始化m个类\n",
    "m = 3  # m个类别\n",
    "layers = initOutputLayer(m, data_dim)\n",
    "print(\"Original layers:\", layers)\n",
    "\n",
    "# 开始迭代训练\n",
    "while train_times > 0:\n",
    "    for i in range(train_num):\n",
    "        # 权值归一化\n",
    "        layers_norm = normalizationVList(layers)\n",
    "        # 计算某一个x输入的竞争层胜利节点\n",
    "        winner_index = getWinner(train_X[i], layers_norm)\n",
    "        # 修正权值\n",
    "        layers[winner_index] = adjustWeight(layers[winner_index], train_X[i], learn_rate)\n",
    "    train_times -= 1\n",
    "print(\"After train layers:\", layers)\n",
    "\n",
    "# 测试\n",
    "for i in range(test_num):\n",
    "    # 权值归一化\n",
    "    layers_norm = normalizationVList(layers)\n",
    "    # 计算某一个x输入的竞争层胜利节点\n",
    "    winner_index = getWinner(test_X[i], layers_norm)\n",
    "    # 画图\n",
    "    color = \"ro\"\n",
    "    if winner_index == 0:\n",
    "        color = \"ro\"\n",
    "    elif winner_index == 1:\n",
    "        color = \"bo\"\n",
    "    elif winner_index == 2:\n",
    "        color = \"yo\"\n",
    "    plt.plot(test_X[i][0], test_X[i][1], color)\n",
    "plt.legend()\n",
    "plt.show()"
   ]
  },
  {
   "cell_type": "markdown",
   "metadata": {},
   "source": [
    "参考文献：  \n",
    "1. https://www.cnblogs.com/surfzjy/p/7944454.html"
   ]
  }
 ],
 "metadata": {
  "kernelspec": {
   "display_name": "Python 3",
   "language": "python",
   "name": "python3"
  },
  "language_info": {
   "codemirror_mode": {
    "name": "ipython",
    "version": 3
   },
   "file_extension": ".py",
   "mimetype": "text/x-python",
   "name": "python",
   "nbconvert_exporter": "python",
   "pygments_lexer": "ipython3",
   "version": "3.6.5"
  }
 },
 "nbformat": 4,
 "nbformat_minor": 2
}
